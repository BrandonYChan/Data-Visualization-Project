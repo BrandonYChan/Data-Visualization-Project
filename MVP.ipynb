{
 "cells": [
  {
   "cell_type": "markdown",
   "metadata": {},
   "source": [
    "# The Greatest NBA Season of All Time \n",
    "\n",
    "<span style=\"font-size:15px;\">Description: We want to determine which NBA player had the greatest season of all time. This will be a comprehensive breakdown on player analytics, incorporating aspects of quantitative and qualitative analysis, as well as personal judgement. The core of the analysis will be demonstrated through visualization techniques learned in class, as well as from other sources.</span>\n",
    "\n",
    "<span style=\"font-size:15px;\">Contributors: Brandon, Brayden</span>\n"
   ]
  },
  {
   "cell_type": "markdown",
   "metadata": {},
   "source": [
    "<span style=\"font-size:25px;\">Imports </span>"
   ]
  },
  {
   "cell_type": "code",
   "execution_count": 60,
   "metadata": {},
   "outputs": [],
   "source": [
    "import pandas as pd\n",
    "import numpy as np\n",
    "import matplotlib.pyplot as plt\n",
    "import seaborn as sns\n",
    "import sklearn as sklm"
   ]
  },
  {
   "cell_type": "markdown",
   "metadata": {},
   "source": [
    "<span style=\"font-size:25px;\">Cleaning the Dataset </span>"
   ]
  },
  {
   "cell_type": "code",
   "execution_count": 84,
   "metadata": {},
   "outputs": [
    {
     "name": "stderr",
     "output_type": "stream",
     "text": [
      "C:\\Users\\bchan\\AppData\\Local\\Temp\\ipykernel_14508\\3934629796.py:3: ParserWarning: Falling back to the 'python' engine because the 'c' engine does not support skipfooter; you can avoid this warning by specifying engine='python'.\n",
      "  MVP= pd.read_csv(URL, skiprows=1, skipfooter=1)\n"
     ]
    },
    {
     "data": {
      "text/html": [
       "<div>\n",
       "<style scoped>\n",
       "    .dataframe tbody tr th:only-of-type {\n",
       "        vertical-align: middle;\n",
       "    }\n",
       "\n",
       "    .dataframe tbody tr th {\n",
       "        vertical-align: top;\n",
       "    }\n",
       "\n",
       "    .dataframe thead th {\n",
       "        text-align: right;\n",
       "    }\n",
       "</style>\n",
       "<table border=\"1\" class=\"dataframe\">\n",
       "  <thead>\n",
       "    <tr style=\"text-align: right;\">\n",
       "      <th></th>\n",
       "      <th>Season</th>\n",
       "      <th>Player</th>\n",
       "      <th>Age</th>\n",
       "      <th>Tm</th>\n",
       "      <th>G</th>\n",
       "      <th>MP</th>\n",
       "      <th>PTS</th>\n",
       "      <th>TRB</th>\n",
       "      <th>AST</th>\n",
       "      <th>STL</th>\n",
       "      <th>BLK</th>\n",
       "      <th>FG%</th>\n",
       "      <th>3P%</th>\n",
       "      <th>FT%</th>\n",
       "      <th>WS</th>\n",
       "      <th>WS/48</th>\n",
       "    </tr>\n",
       "  </thead>\n",
       "  <tbody>\n",
       "    <tr>\n",
       "      <th>0</th>\n",
       "      <td>2022-23</td>\n",
       "      <td>Joel Embiid</td>\n",
       "      <td>28</td>\n",
       "      <td>PHI</td>\n",
       "      <td>66</td>\n",
       "      <td>34.6</td>\n",
       "      <td>33.1</td>\n",
       "      <td>10.2</td>\n",
       "      <td>4.2</td>\n",
       "      <td>1.0</td>\n",
       "      <td>1.7</td>\n",
       "      <td>0.548</td>\n",
       "      <td>0.330</td>\n",
       "      <td>0.857</td>\n",
       "      <td>12.3</td>\n",
       "      <td>0.259</td>\n",
       "    </tr>\n",
       "    <tr>\n",
       "      <th>1</th>\n",
       "      <td>2021-22</td>\n",
       "      <td>Nikola Jokić</td>\n",
       "      <td>26</td>\n",
       "      <td>DEN</td>\n",
       "      <td>74</td>\n",
       "      <td>33.5</td>\n",
       "      <td>27.1</td>\n",
       "      <td>13.8</td>\n",
       "      <td>7.9</td>\n",
       "      <td>1.5</td>\n",
       "      <td>0.9</td>\n",
       "      <td>0.583</td>\n",
       "      <td>0.337</td>\n",
       "      <td>0.810</td>\n",
       "      <td>15.2</td>\n",
       "      <td>0.296</td>\n",
       "    </tr>\n",
       "    <tr>\n",
       "      <th>2</th>\n",
       "      <td>2020-21</td>\n",
       "      <td>Nikola Jokić</td>\n",
       "      <td>25</td>\n",
       "      <td>DEN</td>\n",
       "      <td>72</td>\n",
       "      <td>34.6</td>\n",
       "      <td>26.4</td>\n",
       "      <td>10.8</td>\n",
       "      <td>8.3</td>\n",
       "      <td>1.3</td>\n",
       "      <td>0.7</td>\n",
       "      <td>0.566</td>\n",
       "      <td>0.388</td>\n",
       "      <td>0.868</td>\n",
       "      <td>15.6</td>\n",
       "      <td>0.301</td>\n",
       "    </tr>\n",
       "    <tr>\n",
       "      <th>3</th>\n",
       "      <td>2019-20</td>\n",
       "      <td>Giannis Antetokounmpo</td>\n",
       "      <td>25</td>\n",
       "      <td>MIL</td>\n",
       "      <td>63</td>\n",
       "      <td>30.4</td>\n",
       "      <td>29.5</td>\n",
       "      <td>13.6</td>\n",
       "      <td>5.6</td>\n",
       "      <td>1.0</td>\n",
       "      <td>1.0</td>\n",
       "      <td>0.553</td>\n",
       "      <td>0.304</td>\n",
       "      <td>0.633</td>\n",
       "      <td>11.1</td>\n",
       "      <td>0.279</td>\n",
       "    </tr>\n",
       "    <tr>\n",
       "      <th>4</th>\n",
       "      <td>2018-19</td>\n",
       "      <td>Giannis Antetokounmpo</td>\n",
       "      <td>24</td>\n",
       "      <td>MIL</td>\n",
       "      <td>72</td>\n",
       "      <td>32.8</td>\n",
       "      <td>27.7</td>\n",
       "      <td>12.5</td>\n",
       "      <td>5.9</td>\n",
       "      <td>1.3</td>\n",
       "      <td>1.5</td>\n",
       "      <td>0.578</td>\n",
       "      <td>0.256</td>\n",
       "      <td>0.729</td>\n",
       "      <td>14.4</td>\n",
       "      <td>0.292</td>\n",
       "    </tr>\n",
       "  </tbody>\n",
       "</table>\n",
       "</div>"
      ],
      "text/plain": [
       "    Season                 Player  Age   Tm   G    MP   PTS   TRB  AST  STL  \\\n",
       "0  2022-23            Joel Embiid   28  PHI  66  34.6  33.1  10.2  4.2  1.0   \n",
       "1  2021-22           Nikola Jokić   26  DEN  74  33.5  27.1  13.8  7.9  1.5   \n",
       "2  2020-21           Nikola Jokić   25  DEN  72  34.6  26.4  10.8  8.3  1.3   \n",
       "3  2019-20  Giannis Antetokounmpo   25  MIL  63  30.4  29.5  13.6  5.6  1.0   \n",
       "4  2018-19  Giannis Antetokounmpo   24  MIL  72  32.8  27.7  12.5  5.9  1.3   \n",
       "\n",
       "   BLK    FG%    3P%    FT%    WS  WS/48  \n",
       "0  1.7  0.548  0.330  0.857  12.3  0.259  \n",
       "1  0.9  0.583  0.337  0.810  15.2  0.296  \n",
       "2  0.7  0.566  0.388  0.868  15.6  0.301  \n",
       "3  1.0  0.553  0.304  0.633  11.1  0.279  \n",
       "4  1.5  0.578  0.256  0.729  14.4  0.292  "
      ]
     },
     "execution_count": 84,
     "metadata": {},
     "output_type": "execute_result"
    }
   ],
   "source": [
    "# Import the dataset and skip the first row \n",
    "URL=\"https://raw.githubusercontent.com/BrandonYChan/Data-Visualization-Project/main/MVP.csv\"\n",
    "MVP= pd.read_csv(URL, skiprows=1, skipfooter=1)\n",
    "#source: basketballreference.com (Added to our GitHub) \n",
    "\n",
    "# Remove unnecessary columns\n",
    "MVP.drop(columns=['-9999', 'Voting', 'Lg'], inplace=True)\n",
    "\n",
    "# Regex to split the season into start and end date \n",
    "# MVP['Season']=MVP['Season'].apply(lambda x:x[:4]+'-20'+x[-2:])\n",
    "\n",
    "# Convert to datetime \n",
    "# MVP['Season']=pd.to_datetime(MVP['Season'], format='%Y-%y')\n",
    "\n",
    "MVP.head(5)"
   ]
  },
  {
   "cell_type": "markdown",
   "metadata": {},
   "source": [
    "<span style=\"font-size:25px;\">Determining the Best Season By Category</span>"
   ]
  },
  {
   "cell_type": "markdown",
   "metadata": {},
   "source": [
    "<span style=\"font-size:20px;\">Box Score </span>"
   ]
  },
  {
   "cell_type": "code",
   "execution_count": 109,
   "metadata": {},
   "outputs": [],
   "source": [
    "# Filtering dataframe\n",
    "\n",
    "# In order to be competetive in this category, players should at least meet minimum thresholds\n",
    "top_scorers=MVP.sort_values('PTS', ascending=False).iloc[0:10,:]\n",
    "top_rebounders=MVP.sort_values('TRB', ascending=False).iloc[0:10,:] \n",
    "top_playmakers=MVP.sort_values('AST', ascending=False).iloc[0:10,:]\n"
   ]
  },
  {
   "cell_type": "code",
   "execution_count": 108,
   "metadata": {},
   "outputs": [
    {
     "data": {
      "text/plain": [
       "<BarContainer object of 10 artists>"
      ]
     },
     "execution_count": 108,
     "metadata": {},
     "output_type": "execute_result"
    },
    {
     "data": {
      "image/png": "[encoded data removed]",
      "text/plain": [
       "<Figure size 3000x600 with 3 Axes>"
      ]
     },
     "metadata": {},
     "output_type": "display_data"
    }
   ],
   "source": [
    "#Modeling and visualization\n",
    "\n",
    "\n",
    "fig, ax=plt.subplots(ncols=3,figsize=(30, 6))\n",
    "# Top scorers plot\n",
    "ax[0].barh(top_scorers['Player'], top_scorers['PTS'])\n",
    "# Top rebounders plot \n",
    "ax[1].barh(top_rebounders['Player'], top_rebounders['TRB'])\n",
    "#Top playmakers plot\n",
    "ax[2].barh(top_playmakers['Player'], top_playmakers['AST'])"
   ]
  },
  {
   "cell_type": "markdown",
   "metadata": {},
   "source": [
    "<span style=\"font-size:20px;\">Efficiency </span>"
   ]
  },
  {
   "cell_type": "code",
   "execution_count": null,
   "metadata": {},
   "outputs": [],
   "source": [
    "#Filtering dataframe"
   ]
  },
  {
   "cell_type": "code",
   "execution_count": null,
   "metadata": {},
   "outputs": [],
   "source": [
    "#Modeling and visualization"
   ]
  },
  {
   "cell_type": "markdown",
   "metadata": {},
   "source": [
    "<span style=\"font-size:20px;\">Advanced Statistics </span>"
   ]
  },
  {
   "cell_type": "code",
   "execution_count": null,
   "metadata": {},
   "outputs": [],
   "source": [
    "#Filtering dataframe"
   ]
  },
  {
   "cell_type": "code",
   "execution_count": null,
   "metadata": {},
   "outputs": [],
   "source": [
    "#Modeling and visualization"
   ]
  },
  {
   "cell_type": "markdown",
   "metadata": {},
   "source": [
    "<span style=\"font-size:25px;\">Conclusion</span>"
   ]
  },
  {
   "cell_type": "markdown",
   "metadata": {},
   "source": []
  }
 ],
 "metadata": {
  "kernelspec": {
   "display_name": "Python 3",
   "language": "python",
   "name": "python3"
  },
  "language_info": {
   "codemirror_mode": {
    "name": "ipython",
    "version": 3
   },
   "file_extension": ".py",
   "mimetype": "text/x-python",
   "name": "python",
   "nbconvert_exporter": "python",
   "pygments_lexer": "ipython3",
   "version": "3.11.9"
  }
 },
 "nbformat": 4,
 "nbformat_minor": 2
}
